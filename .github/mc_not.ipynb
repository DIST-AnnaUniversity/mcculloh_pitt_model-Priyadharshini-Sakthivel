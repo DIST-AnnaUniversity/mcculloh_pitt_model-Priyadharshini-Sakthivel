{
 "cells": [
  {
   "cell_type": "markdown",
   "id": "b34b750a",
   "metadata": {},
   "source": [
    "# mc_pitt NOT"
   ]
  },
  {
   "cell_type": "code",
   "execution_count": 3,
   "id": "d322dc7d",
   "metadata": {},
   "outputs": [],
   "source": [
    "#McCulloh Pitt model for NOT model\n",
    "import numpy as np\n",
    "def McNot(x,w,t):\n",
    "    net = np.dot(x,w)\n",
    "    if net>t:\n",
    "        output = 1\n",
    "    else:\n",
    "        output = 0\n",
    "        return output\n",
    "    x0 = np.array([0,1])\n",
    "    x1 = np.array([1,1])\n",
    "    w = np.array([1,-1])\n",
    "    t = 0\n",
    "    ans1 = McNot(x0,w,t)\n",
    "    print (x0, \"value\", ans1)\n",
    "    ans2 = McNot(x1,w,t)\n",
    "    print (x1,\"value\", ans2)"
   ]
  }
 ],
 "metadata": {
  "kernelspec": {
   "display_name": "Python 3 (ipykernel)",
   "language": "python",
   "name": "python3"
  },
  "language_info": {
   "codemirror_mode": {
    "name": "ipython",
    "version": 3
   },
   "file_extension": ".py",
   "mimetype": "text/x-python",
   "name": "python",
   "nbconvert_exporter": "python",
   "pygments_lexer": "ipython3",
   "version": "3.9.12"
  }
 },
 "nbformat": 4,
 "nbformat_minor": 5
}
